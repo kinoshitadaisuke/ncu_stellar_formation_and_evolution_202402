{
  "nbformat": 4,
  "nbformat_minor": 0,
  "metadata": {
    "colab": {
      "provenance": []
    },
    "kernelspec": {
      "name": "python3",
      "display_name": "Python 3"
    },
    "language_info": {
      "name": "python"
    }
  },
  "cells": [
    {
      "cell_type": "markdown",
      "source": [
        "# Stellar Formation and Evolution\n",
        "\n",
        "- \"Stellar Formation and Evolution\"\n",
        "  - Instructor: Kinoshita Daisuke\n",
        "  - Classroom: S4-914\n",
        "  - Time: from 09:00 to 11:50 on Monday\n",
        "  - Semester: 2nd semester of academic year 2023\n",
        "    - from February 2024 to June 2024\n",
        "  - Course web page: https://s3b.astro.ncu.edu.tw/star_202402/\n",
        "  - GitHub repository: https://github.com/kinoshitadaisuke/ncu_stellar_formation_and_evolution_202402\n"
      ],
      "metadata": {
        "id": "gGzI83b9PmnI"
      }
    },
    {
      "cell_type": "markdown",
      "source": [
        "# Session 09\n",
        "\n",
        "## 15 April 2024\n",
        "\n",
        "## Instructor: Kinoshita Daisuke"
      ],
      "metadata": {
        "id": "Q7MvlbrC_tne"
      }
    },
    {
      "cell_type": "markdown",
      "source": [
        "# 0. Installation of Python interpreter"
      ],
      "metadata": {
        "id": "T_y7rto6Q5P8"
      }
    },
    {
      "cell_type": "code",
      "source": [
        "# Run this cell to install Python 3.12\n",
        "\n",
        "!apt update\n",
        "!apt upgrade\n",
        "!apt install python3.12 python3.12-dev python3.12-distutils libpython3.12-dev\n",
        "!update-alternatives --install /usr/bin/python3 python3 /usr/bin/python3.12 1\n",
        "!wget https://bootstrap.pypa.io/get-pip.py\n",
        "!python3.12 get-pip.py"
      ],
      "metadata": {
        "id": "MzmVLkC8QyGZ"
      },
      "execution_count": null,
      "outputs": []
    },
    {
      "cell_type": "code",
      "source": [
        "# Run this cell to check the version of Python interpreter and pip command\n",
        "\n",
        "!python --version\n",
        "!pip --version"
      ],
      "metadata": {
        "id": "Vx-JYTyp3NMU"
      },
      "execution_count": null,
      "outputs": []
    },
    {
      "cell_type": "code",
      "source": [
        "# Run this cell to install external packages.\n",
        "\n",
        "!pip install numpy scipy matplotlib"
      ],
      "metadata": {
        "id": "TzYngZ-iw8vC"
      },
      "execution_count": null,
      "outputs": []
    },
    {
      "cell_type": "markdown",
      "source": [
        "# 1. Downloading a set of sample Python scripts for this course"
      ],
      "metadata": {
        "id": "zvKZRFoF8A8k"
      }
    },
    {
      "cell_type": "code",
      "source": [
        "# Run this cell to download a set of sample Python scripts for this course.\n",
        "\n",
        "!git clone https://github.com/kinoshitadaisuke/ncu_stellar_formation_and_evolution_202402.git"
      ],
      "metadata": {
        "id": "itsUqwak4-z4"
      },
      "execution_count": null,
      "outputs": []
    },
    {
      "cell_type": "code",
      "source": [
        "# Run this cell to move to the directory for this session.\n",
        "\n",
        "%cd ncu_stellar_formation_and_evolution_202402/s09"
      ],
      "metadata": {
        "id": "bREyxIP08RZG"
      },
      "execution_count": null,
      "outputs": []
    },
    {
      "cell_type": "code",
      "source": [
        "# Run this cell to show a list of files for this session.\n",
        "\n",
        "!ls"
      ],
      "metadata": {
        "id": "fKxQ_X-D8dRN"
      },
      "execution_count": null,
      "outputs": []
    },
    {
      "cell_type": "markdown",
      "source": [
        "# 2. Solving an equation dy/dx = -ky"
      ],
      "metadata": {
        "id": "4sGBLQz4wQmH"
      }
    },
    {
      "cell_type": "code",
      "source": [
        "# Run this cell to show the source code of the script.\n",
        "\n",
        "!cat simple_00.py"
      ],
      "metadata": {
        "id": "t1ut5r8swUvt"
      },
      "execution_count": null,
      "outputs": []
    },
    {
      "cell_type": "code",
      "source": [
        "# Run this cell to execute the script.\n",
        "\n",
        "!python3.12 simple_00.py"
      ],
      "metadata": {
        "id": "EgukRcY6wd0u"
      },
      "execution_count": null,
      "outputs": []
    },
    {
      "cell_type": "code",
      "source": [
        "# Run this cell to show the source code of the script.\n",
        "\n",
        "!cat simple_01.py"
      ],
      "metadata": {
        "id": "UFtk_q69wmyu"
      },
      "execution_count": null,
      "outputs": []
    },
    {
      "cell_type": "code",
      "source": [
        "# Run this cell to execute the script.\n",
        "\n",
        "!python3.12 simple_01.py"
      ],
      "metadata": {
        "id": "kQR9Gu9RwmzA"
      },
      "execution_count": null,
      "outputs": []
    },
    {
      "cell_type": "code",
      "source": [
        "# Run this cell to display an image file.\n",
        "\n",
        "# importing IPython.display module\n",
        "import IPython.display\n",
        "\n",
        "# displaying a PNG file.\n",
        "IPython.display.Image ('simple_01.png')"
      ],
      "metadata": {
        "id": "qCM32AJGwulY"
      },
      "execution_count": null,
      "outputs": []
    },
    {
      "cell_type": "code",
      "source": [
        "# Run this cell to show the source code of the script.\n",
        "\n",
        "!cat simple_02.py"
      ],
      "metadata": {
        "id": "0hhSXa3Sw_q_"
      },
      "execution_count": null,
      "outputs": []
    },
    {
      "cell_type": "code",
      "source": [
        "# Run this cell to execute the script.\n",
        "\n",
        "!python3.12 simple_02.py"
      ],
      "metadata": {
        "id": "NsCt03HZw_rO"
      },
      "execution_count": null,
      "outputs": []
    },
    {
      "cell_type": "code",
      "source": [
        "# Run this cell to show the source code of the script.\n",
        "\n",
        "!cat simple_03.py"
      ],
      "metadata": {
        "id": "X7VTyALKxCCb"
      },
      "execution_count": null,
      "outputs": []
    },
    {
      "cell_type": "code",
      "source": [
        "# Run this cell to execute the script.\n",
        "\n",
        "!python3.12 simple_03.py"
      ],
      "metadata": {
        "id": "_a4SRY0zxCCb"
      },
      "execution_count": null,
      "outputs": []
    },
    {
      "cell_type": "code",
      "source": [
        "# Run this cell to display an image file.\n",
        "\n",
        "# importing IPython.display module\n",
        "import IPython.display\n",
        "\n",
        "# displaying a PNG file.\n",
        "IPython.display.Image ('simple_03.png')"
      ],
      "metadata": {
        "id": "jdjljLvfxCCc"
      },
      "execution_count": null,
      "outputs": []
    },
    {
      "cell_type": "code",
      "source": [
        "# Run this cell to show the source code of the script.\n",
        "\n",
        "!cat simple_04.py"
      ],
      "metadata": {
        "id": "iR6G3E4LxD9P"
      },
      "execution_count": null,
      "outputs": []
    },
    {
      "cell_type": "code",
      "source": [
        "# Run this cell to execute the script.\n",
        "\n",
        "!python3.12 simple_04.py"
      ],
      "metadata": {
        "id": "Xn6q1Dk2xD9R"
      },
      "execution_count": null,
      "outputs": []
    },
    {
      "cell_type": "code",
      "source": [
        "# Run this cell to display an image file.\n",
        "\n",
        "# importing IPython.display module\n",
        "import IPython.display\n",
        "\n",
        "# displaying a PNG file.\n",
        "IPython.display.Image ('simple_04.png')"
      ],
      "metadata": {
        "id": "gNmQnvqUxD9S"
      },
      "execution_count": null,
      "outputs": []
    },
    {
      "cell_type": "code",
      "source": [
        "# Run this cell to show the source code of the script.\n",
        "\n",
        "!cat simple_05.py"
      ],
      "metadata": {
        "id": "aCfs9SqWxGui"
      },
      "execution_count": null,
      "outputs": []
    },
    {
      "cell_type": "code",
      "source": [
        "# Run this cell to execute the script.\n",
        "\n",
        "!python3.12 simple_05.py"
      ],
      "metadata": {
        "id": "cQzcxYUExGuq"
      },
      "execution_count": null,
      "outputs": []
    },
    {
      "cell_type": "code",
      "source": [
        "# Run this cell to display an image file.\n",
        "\n",
        "# importing IPython.display module\n",
        "import IPython.display\n",
        "\n",
        "# displaying a PNG file.\n",
        "IPython.display.Image ('simple_05.png')"
      ],
      "metadata": {
        "id": "yAa92p0IxGut"
      },
      "execution_count": null,
      "outputs": []
    },
    {
      "cell_type": "markdown",
      "source": [
        "# 3. Solving dv/dt = -g"
      ],
      "metadata": {
        "id": "w9sEF-M6xL-9"
      }
    },
    {
      "cell_type": "code",
      "source": [
        "# Run this cell to show the source code of the script.\n",
        "\n",
        "!cat velocity_00.py"
      ],
      "metadata": {
        "id": "tl80NtROxWRu"
      },
      "execution_count": null,
      "outputs": []
    },
    {
      "cell_type": "code",
      "source": [
        "# Run this cell to execute the script.\n",
        "\n",
        "!python3.12 velocity_00.py"
      ],
      "metadata": {
        "id": "sbcymCDIxWSG"
      },
      "execution_count": null,
      "outputs": []
    },
    {
      "cell_type": "code",
      "source": [
        "# Run this cell to show the source code of the script.\n",
        "\n",
        "!cat velocity_01.py"
      ],
      "metadata": {
        "id": "Yyq6uY5Oxa3L"
      },
      "execution_count": null,
      "outputs": []
    },
    {
      "cell_type": "code",
      "source": [
        "# Run this cell to execute the script.\n",
        "\n",
        "!python3.12 velocity_01.py"
      ],
      "metadata": {
        "id": "DWL_lmFpxa3M"
      },
      "execution_count": null,
      "outputs": []
    },
    {
      "cell_type": "code",
      "source": [
        "# Run this cell to show the source code of the script.\n",
        "\n",
        "!cat velocity_02.py"
      ],
      "metadata": {
        "id": "5tN3xU52xcG1"
      },
      "execution_count": null,
      "outputs": []
    },
    {
      "cell_type": "code",
      "source": [
        "# Run this cell to execute the script.\n",
        "\n",
        "!python3.12 velocity_02.py"
      ],
      "metadata": {
        "id": "zy005f2kxcG2"
      },
      "execution_count": null,
      "outputs": []
    },
    {
      "cell_type": "code",
      "source": [
        "# Run this cell to show the source code of the script.\n",
        "\n",
        "!cat velocity_03.py"
      ],
      "metadata": {
        "id": "ddowUNeYxeID"
      },
      "execution_count": null,
      "outputs": []
    },
    {
      "cell_type": "code",
      "source": [
        "# Run this cell to execute the script.\n",
        "\n",
        "!python3.12 velocity_03.py"
      ],
      "metadata": {
        "id": "NsQ_Y4pRxeIE"
      },
      "execution_count": null,
      "outputs": []
    },
    {
      "cell_type": "code",
      "source": [
        "# Run this cell to display an image file.\n",
        "\n",
        "# importing IPython.display module\n",
        "import IPython.display\n",
        "\n",
        "# displaying a PNG file.\n",
        "IPython.display.Image ('velocity_03.png')"
      ],
      "metadata": {
        "id": "O2E-G3QXxlvZ"
      },
      "execution_count": null,
      "outputs": []
    },
    {
      "cell_type": "code",
      "source": [
        "# Run this cell to show the source code of the script.\n",
        "\n",
        "!cat velocity_04.py"
      ],
      "metadata": {
        "id": "NGXDorRnxpMK"
      },
      "execution_count": null,
      "outputs": []
    },
    {
      "cell_type": "code",
      "source": [
        "# Run this cell to execute the script.\n",
        "\n",
        "!python3.12 velocity_04.py"
      ],
      "metadata": {
        "id": "-hASPT2oxpMW"
      },
      "execution_count": null,
      "outputs": []
    },
    {
      "cell_type": "code",
      "source": [
        "# Run this cell to display an image file.\n",
        "\n",
        "# importing IPython.display module\n",
        "import IPython.display\n",
        "\n",
        "# displaying a PNG file.\n",
        "IPython.display.Image ('velocity_04.png')"
      ],
      "metadata": {
        "id": "Z4f7I2GlxpMY"
      },
      "execution_count": null,
      "outputs": []
    },
    {
      "cell_type": "markdown",
      "source": [
        "# 4. Solving d2z/dt2 = -g"
      ],
      "metadata": {
        "id": "KKQAgY7NxuXA"
      }
    },
    {
      "cell_type": "code",
      "source": [
        "# Run this cell to show the source code of the script.\n",
        "\n",
        "!cat position_00.py"
      ],
      "metadata": {
        "id": "ynEZz3aIx4PA"
      },
      "execution_count": null,
      "outputs": []
    },
    {
      "cell_type": "code",
      "source": [
        "# Run this cell to execute the script.\n",
        "\n",
        "!python3.12 position_00.py"
      ],
      "metadata": {
        "id": "v5baH7Ekx4PM"
      },
      "execution_count": null,
      "outputs": []
    },
    {
      "cell_type": "code",
      "source": [
        "# Run this cell to display an image file.\n",
        "\n",
        "# importing IPython.display module\n",
        "import IPython.display\n",
        "\n",
        "# displaying a PNG file.\n",
        "IPython.display.Image ('position_00.png')"
      ],
      "metadata": {
        "id": "rs9Fd9w9x4PP"
      },
      "execution_count": null,
      "outputs": []
    },
    {
      "cell_type": "code",
      "source": [
        "# Run this cell to show the source code of the script.\n",
        "\n",
        "!cat position_01.py"
      ],
      "metadata": {
        "id": "mMl475O1x9ke"
      },
      "execution_count": null,
      "outputs": []
    },
    {
      "cell_type": "code",
      "source": [
        "# Run this cell to execute the script.\n",
        "\n",
        "!python3.12 position_01.py"
      ],
      "metadata": {
        "id": "DpWtfQnZx9kh"
      },
      "execution_count": null,
      "outputs": []
    },
    {
      "cell_type": "code",
      "source": [
        "# Run this cell to display an image file.\n",
        "\n",
        "# importing IPython.display module\n",
        "import IPython.display\n",
        "\n",
        "# displaying a PNG file.\n",
        "IPython.display.Image ('position_01.png')"
      ],
      "metadata": {
        "id": "jHW2o87jx9kk"
      },
      "execution_count": null,
      "outputs": []
    },
    {
      "cell_type": "markdown",
      "source": [
        "# 5. Trajectory"
      ],
      "metadata": {
        "id": "4g6DvI8SyIug"
      }
    },
    {
      "cell_type": "code",
      "source": [
        "# Run this cell to show the source code of the script.\n",
        "\n",
        "!cat trajectory_00.py"
      ],
      "metadata": {
        "id": "6AfxCTauyO8z"
      },
      "execution_count": null,
      "outputs": []
    },
    {
      "cell_type": "code",
      "source": [
        "# Run this cell to execute the script.\n",
        "\n",
        "!python3.12 trajectory_00.py"
      ],
      "metadata": {
        "id": "btqC4GaEyO80"
      },
      "execution_count": null,
      "outputs": []
    },
    {
      "cell_type": "code",
      "source": [
        "# Run this cell to display an image file.\n",
        "\n",
        "# importing IPython.display module\n",
        "import IPython.display\n",
        "\n",
        "# displaying a PNG file.\n",
        "IPython.display.Image ('trajectory_00.png')"
      ],
      "metadata": {
        "id": "VHG8OvwByO81"
      },
      "execution_count": null,
      "outputs": []
    },
    {
      "cell_type": "code",
      "source": [
        "# Run this cell to show the source code of the script.\n",
        "\n",
        "!cat trajectory_01.py"
      ],
      "metadata": {
        "id": "TqWl9zHpyVup"
      },
      "execution_count": null,
      "outputs": []
    },
    {
      "cell_type": "code",
      "source": [
        "# Run this cell to execute the script.\n",
        "\n",
        "!python3.12 trajectory_01.py"
      ],
      "metadata": {
        "id": "YUAikG8dyVut"
      },
      "execution_count": null,
      "outputs": []
    },
    {
      "cell_type": "code",
      "source": [
        "# Run this cell to display an image file.\n",
        "\n",
        "# importing IPython.display module\n",
        "import IPython.display\n",
        "\n",
        "# displaying a PNG file.\n",
        "IPython.display.Image ('trajectory_01.png')"
      ],
      "metadata": {
        "id": "L_gmA9I9yVuw"
      },
      "execution_count": null,
      "outputs": []
    },
    {
      "cell_type": "code",
      "source": [
        "# Run this cell to show the source code of the script.\n",
        "\n",
        "!cat trajectory_02.py"
      ],
      "metadata": {
        "id": "AWWfFMVNyYrV"
      },
      "execution_count": null,
      "outputs": []
    },
    {
      "cell_type": "code",
      "source": [
        "# Run this cell to execute the script.\n",
        "\n",
        "!python3.12 trajectory_02.py"
      ],
      "metadata": {
        "id": "uU_8_PV1yYrV"
      },
      "execution_count": null,
      "outputs": []
    },
    {
      "cell_type": "code",
      "source": [
        "# Run this cell to display an image file.\n",
        "\n",
        "# importing IPython.display module\n",
        "import IPython.display\n",
        "\n",
        "# displaying a PNG file.\n",
        "IPython.display.Image ('trajectory_02.png')"
      ],
      "metadata": {
        "id": "u3Iq9QTxyYrW"
      },
      "execution_count": null,
      "outputs": []
    },
    {
      "cell_type": "code",
      "source": [
        "# Run this cell to show the source code of the script.\n",
        "\n",
        "!cat trajectory_03.py"
      ],
      "metadata": {
        "id": "NyYaYMj8yanw"
      },
      "execution_count": null,
      "outputs": []
    },
    {
      "cell_type": "code",
      "source": [
        "# Run this cell to execute the script.\n",
        "\n",
        "!python3.12 trajectory_03.py"
      ],
      "metadata": {
        "id": "ncuKTJtVyan1"
      },
      "execution_count": null,
      "outputs": []
    },
    {
      "cell_type": "code",
      "source": [
        "# Run this cell to display an image file.\n",
        "\n",
        "# importing IPython.display module\n",
        "import IPython.display\n",
        "\n",
        "# displaying a PNG file.\n",
        "IPython.display.Image ('trajectory_03.png')"
      ],
      "metadata": {
        "id": "H6SLKOpYyan3"
      },
      "execution_count": null,
      "outputs": []
    },
    {
      "cell_type": "code",
      "source": [
        "# Run this cell to show the source code of the script.\n",
        "\n",
        "!cat trajectory_04.py"
      ],
      "metadata": {
        "id": "6GdgQ6zIycdp"
      },
      "execution_count": null,
      "outputs": []
    },
    {
      "cell_type": "code",
      "source": [
        "# Run this cell to execute the script.\n",
        "\n",
        "!python3.12 trajectory_04.py"
      ],
      "metadata": {
        "id": "tJbBwdZQycdr"
      },
      "execution_count": null,
      "outputs": []
    },
    {
      "cell_type": "code",
      "source": [
        "# Run this cell to display an image file.\n",
        "\n",
        "# importing IPython.display module\n",
        "import IPython.display\n",
        "\n",
        "# displaying a PNG file.\n",
        "IPython.display.Image ('trajectory_04.png')"
      ],
      "metadata": {
        "id": "TwSAb5yDycds"
      },
      "execution_count": null,
      "outputs": []
    },
    {
      "cell_type": "markdown",
      "source": [
        "# 6. Solving equation of motion for a planet"
      ],
      "metadata": {
        "id": "snM16Wzhyht5"
      }
    },
    {
      "cell_type": "code",
      "source": [
        "# Run this cell to show the source code of the script.\n",
        "\n",
        "!cat planetary_motion.py"
      ],
      "metadata": {
        "id": "mAcsPZdsyqjn"
      },
      "execution_count": null,
      "outputs": []
    },
    {
      "cell_type": "code",
      "source": [
        "# Run this cell to execute the script.\n",
        "\n",
        "!python3.12 planetary_motion.py -h"
      ],
      "metadata": {
        "id": "CDZ55dlxyqjt"
      },
      "execution_count": null,
      "outputs": []
    },
    {
      "cell_type": "code",
      "source": [
        "# Run this cell to execute the script.\n",
        "\n",
        "!python3.12 planetary_motion.py -x0 1.00 -y0 0.00 -vx0 0.00 -vy0 1.25 -M 1 -t 5 -i 0.01 -r 225 -o planet"
      ],
      "metadata": {
        "id": "-AH9R1aVzY5_"
      },
      "execution_count": null,
      "outputs": []
    },
    {
      "cell_type": "code",
      "source": [
        "# Run this cell to find newly created files.\n",
        "\n",
        "!ls -lF planet"
      ],
      "metadata": {
        "id": "S1VbBXlrzFu0"
      },
      "execution_count": null,
      "outputs": []
    },
    {
      "cell_type": "code",
      "source": [
        "# Run this cell to show the source code of the script.\n",
        "\n",
        "!cat make_mp4.py"
      ],
      "metadata": {
        "id": "yD1OP9vT0iPm"
      },
      "execution_count": null,
      "outputs": []
    },
    {
      "cell_type": "code",
      "source": [
        "# Run this cell to execute the script.\n",
        "\n",
        "!python3.12 make_mp4.py -h"
      ],
      "metadata": {
        "id": "bLiMBG2r0iP0"
      },
      "execution_count": null,
      "outputs": []
    },
    {
      "cell_type": "code",
      "source": [
        "# Run this cell to execute the script.\n",
        "\n",
        "!python3.12 make_mp4.py -d planet -o planet.mp4"
      ],
      "metadata": {
        "id": "S7l6ZEil0nzU"
      },
      "execution_count": null,
      "outputs": []
    },
    {
      "cell_type": "code",
      "source": [
        "# Find newly created file.\n",
        "\n",
        "!ls -lF *.mp4"
      ],
      "metadata": {
        "id": "gQJiS0sa0Xkz"
      },
      "execution_count": null,
      "outputs": []
    },
    {
      "cell_type": "code",
      "source": [
        "# Run this cell to download MP4 movie file to your local computer.\n",
        "\n",
        "# importing google.colab module\n",
        "import google.colab\n",
        "\n",
        "# downloading the file \"planet.mp4\" to your computer\n",
        "google.colab.files.download ('planet.mp4')"
      ],
      "metadata": {
        "id": "tJwcbJqy02_a"
      },
      "execution_count": null,
      "outputs": []
    },
    {
      "cell_type": "markdown",
      "source": [
        "# 7. Solving Lane-Emden equation numerically"
      ],
      "metadata": {
        "id": "JFh3kRLC1pTW"
      }
    },
    {
      "cell_type": "code",
      "source": [
        "# Run this cell to show the source code of the script.\n",
        "\n",
        "!cat solve_laneemden.py"
      ],
      "metadata": {
        "id": "T5v_lLYx10qu"
      },
      "execution_count": null,
      "outputs": []
    },
    {
      "cell_type": "code",
      "source": [
        "# Run this cell to execute the script.\n",
        "\n",
        "!python3.12 solve_laneemden.py -h"
      ],
      "metadata": {
        "id": "6RlR5KKD18Vg"
      },
      "execution_count": null,
      "outputs": []
    },
    {
      "cell_type": "code",
      "source": [
        "# Run this cell to execute the script.\n",
        "\n",
        "!python3.12 solve_laneemden.py -n 0.0 -o n000.data\n",
        "!python3.12 solve_laneemden.py -n 0.5 -o n050.data\n",
        "!python3.12 solve_laneemden.py -n 1.0 -o n100.data\n",
        "!python3.12 solve_laneemden.py -n 1.5 -o n150.data\n",
        "!python3.12 solve_laneemden.py -n 2.0 -o n200.data\n",
        "!python3.12 solve_laneemden.py -n 2.5 -o n250.data\n",
        "!python3.12 solve_laneemden.py -n 3.0 -o n300.data\n",
        "!python3.12 solve_laneemden.py -n 3.5 -o n350.data\n",
        "!python3.12 solve_laneemden.py -n 4.0 -o n400.data\n",
        "!python3.12 solve_laneemden.py -n 4.5 -o n450.data"
      ],
      "metadata": {
        "id": "ZqHiPgTe2Bne"
      },
      "execution_count": null,
      "outputs": []
    },
    {
      "cell_type": "code",
      "source": [
        "# Find newly created files.\n",
        "\n",
        "!ls -lF n???.data"
      ],
      "metadata": {
        "id": "VvSFutUQ1r73"
      },
      "execution_count": null,
      "outputs": []
    },
    {
      "cell_type": "code",
      "source": [
        "# Run this cell to show the source code of the script.\n",
        "\n",
        "!cat plot_polytrope.py"
      ],
      "metadata": {
        "id": "z-cvheCH2pPu"
      },
      "execution_count": null,
      "outputs": []
    },
    {
      "cell_type": "code",
      "source": [
        "# Run this cell to execute the script.\n",
        "\n",
        "!python3.12 plot_polytrope.py -h"
      ],
      "metadata": {
        "id": "Wojmr5of2pP4"
      },
      "execution_count": null,
      "outputs": []
    },
    {
      "cell_type": "code",
      "source": [
        "# Run this cell to execute the script.\n",
        "\n",
        "!python3.12 plot_polytrope.py -d polytrope_density.png -p polytrope_pressure.png -t polytrope_temperature.png n???.data"
      ],
      "metadata": {
        "id": "isbUWvbs2vKO"
      },
      "execution_count": null,
      "outputs": []
    },
    {
      "cell_type": "code",
      "source": [
        "# Run this cell to display an image file.\n",
        "\n",
        "# importing IPython.display module\n",
        "IPython.display.Image ('polytrope_density.png')"
      ],
      "metadata": {
        "id": "R9uycLRy2YrH"
      },
      "execution_count": null,
      "outputs": []
    },
    {
      "cell_type": "code",
      "source": [
        "# Run this cell to display an image file.\n",
        "\n",
        "# importing IPython.display module\n",
        "IPython.display.Image ('polytrope_pressure.png')"
      ],
      "metadata": {
        "id": "N8yJ2o3X3bLQ"
      },
      "execution_count": null,
      "outputs": []
    },
    {
      "cell_type": "code",
      "source": [
        "# Run this cell to display an image file.\n",
        "\n",
        "# importing IPython.display module\n",
        "IPython.display.Image ('polytrope_temperature.png')"
      ],
      "metadata": {
        "id": "RfbDdQDG3bd1"
      },
      "execution_count": null,
      "outputs": []
    },
    {
      "cell_type": "markdown",
      "source": [
        "# End of this notebook."
      ],
      "metadata": {
        "id": "e6ZxD9QIAD31"
      }
    },
    {
      "cell_type": "code",
      "source": [],
      "metadata": {
        "id": "6sKK3JFj3Yrq"
      },
      "execution_count": null,
      "outputs": []
    }
  ]
}