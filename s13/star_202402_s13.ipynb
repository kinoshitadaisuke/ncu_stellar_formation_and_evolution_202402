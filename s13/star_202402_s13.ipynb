{
  "nbformat": 4,
  "nbformat_minor": 0,
  "metadata": {
    "colab": {
      "provenance": []
    },
    "kernelspec": {
      "name": "python3",
      "display_name": "Python 3"
    },
    "language_info": {
      "name": "python"
    }
  },
  "cells": [
    {
      "cell_type": "markdown",
      "source": [
        "# Stellar Formation and Evolution\n",
        "\n",
        "- \"Stellar Formation and Evolution\"\n",
        "  - Instructor: Kinoshita Daisuke\n",
        "  - Classroom: S4-914\n",
        "  - Time: from 09:00 to 11:50 on Monday\n",
        "  - Semester: 2nd semester of academic year 2023\n",
        "    - from February 2024 to June 2024\n",
        "  - Course web page: https://s3b.astro.ncu.edu.tw/star_202402/\n",
        "  - GitHub repository: https://github.com/kinoshitadaisuke/ncu_stellar_formation_and_evolution_202402\n"
      ],
      "metadata": {
        "id": "gGzI83b9PmnI"
      }
    },
    {
      "cell_type": "markdown",
      "source": [
        "# Session 13\n",
        "\n",
        "## 13 May 2024\n",
        "\n",
        "## Instructor: Kinoshita Daisuke"
      ],
      "metadata": {
        "id": "Q7MvlbrC_tne"
      }
    },
    {
      "cell_type": "markdown",
      "source": [
        "# 0. Installation of Python interpreter"
      ],
      "metadata": {
        "id": "T_y7rto6Q5P8"
      }
    },
    {
      "cell_type": "code",
      "source": [
        "# Run this cell to install Python 3.12\n",
        "\n",
        "!apt update\n",
        "!apt upgrade\n",
        "!apt install python3.12 python3.12-dev python3.12-distutils libpython3.12-dev\n",
        "!update-alternatives --install /usr/bin/python3 python3 /usr/bin/python3.12 1\n",
        "!wget https://bootstrap.pypa.io/get-pip.py\n",
        "!python3.12 get-pip.py"
      ],
      "metadata": {
        "id": "MzmVLkC8QyGZ"
      },
      "execution_count": null,
      "outputs": []
    },
    {
      "cell_type": "code",
      "source": [
        "# Run this cell to check the version of Python interpreter and pip command\n",
        "\n",
        "!python --version\n",
        "!pip --version"
      ],
      "metadata": {
        "id": "Vx-JYTyp3NMU"
      },
      "execution_count": null,
      "outputs": []
    },
    {
      "cell_type": "code",
      "source": [
        "# Run this cell to install external packages.\n",
        "\n",
        "!pip install sympy"
      ],
      "metadata": {
        "id": "TzYngZ-iw8vC"
      },
      "execution_count": null,
      "outputs": []
    },
    {
      "cell_type": "markdown",
      "source": [
        "# 1. Downloading a set of sample Python scripts for this course"
      ],
      "metadata": {
        "id": "zvKZRFoF8A8k"
      }
    },
    {
      "cell_type": "code",
      "source": [
        "# Run this cell to download a set of sample Python scripts for this course.\n",
        "\n",
        "!git clone https://github.com/kinoshitadaisuke/ncu_stellar_formation_and_evolution_202402.git"
      ],
      "metadata": {
        "id": "itsUqwak4-z4"
      },
      "execution_count": null,
      "outputs": []
    },
    {
      "cell_type": "code",
      "source": [
        "# Run this cell to move to the directory for this session.\n",
        "\n",
        "%cd ncu_stellar_formation_and_evolution_202402/s13"
      ],
      "metadata": {
        "id": "bREyxIP08RZG"
      },
      "execution_count": null,
      "outputs": []
    },
    {
      "cell_type": "code",
      "source": [
        "# Run this cell to show a list of files for this session.\n",
        "\n",
        "!ls"
      ],
      "metadata": {
        "id": "fKxQ_X-D8dRN"
      },
      "execution_count": null,
      "outputs": []
    },
    {
      "cell_type": "markdown",
      "source": [
        "# Sympy\n",
        "\n",
        "To learn about Sympy, visit following web page.\n",
        "\n",
        "https://www.sympy.org/"
      ],
      "metadata": {
        "id": "6IBZzKmHvTH7"
      }
    },
    {
      "cell_type": "markdown",
      "source": [
        "# Calculation of (x+1)**2"
      ],
      "metadata": {
        "id": "2AlucVrVsHoF"
      }
    },
    {
      "cell_type": "code",
      "source": [
        "# Run this cell to show the source code of the script.\n",
        "\n",
        "!cat sympy_00.py"
      ],
      "metadata": {
        "id": "LG9R3RRAsJqK"
      },
      "execution_count": null,
      "outputs": []
    },
    {
      "cell_type": "code",
      "source": [
        "# Run this cell to execute the script.\n",
        "\n",
        "!python3.12 sympy_00.py"
      ],
      "metadata": {
        "id": "tkaFgTGbsND9"
      },
      "execution_count": null,
      "outputs": []
    },
    {
      "cell_type": "markdown",
      "source": [
        "# Factorisation of x**2 + x - 2"
      ],
      "metadata": {
        "id": "UvGZx8KMsa6I"
      }
    },
    {
      "cell_type": "code",
      "source": [
        "# Run this cell to show the source code of the script.\n",
        "\n",
        "!cat sympy_01.py"
      ],
      "metadata": {
        "id": "c0AUwxScse_M"
      },
      "execution_count": null,
      "outputs": []
    },
    {
      "cell_type": "code",
      "source": [
        "# Run this cell to execute the script.\n",
        "\n",
        "!python3.12 sympy_01.py"
      ],
      "metadata": {
        "id": "8BHRLnavse_N"
      },
      "execution_count": null,
      "outputs": []
    },
    {
      "cell_type": "markdown",
      "source": [
        "# lim (1+1/x)**x"
      ],
      "metadata": {
        "id": "Cc8LNfY4swXw"
      }
    },
    {
      "cell_type": "code",
      "source": [
        "# Run this cell to show the source code of the script.\n",
        "\n",
        "!cat sympy_02.py"
      ],
      "metadata": {
        "id": "K7hTY5YWs1A_"
      },
      "execution_count": null,
      "outputs": []
    },
    {
      "cell_type": "code",
      "source": [
        "# Run this cell to execute the script.\n",
        "\n",
        "!python3.12 sympy_02.py"
      ],
      "metadata": {
        "id": "HZoUP7vOs1A_"
      },
      "execution_count": null,
      "outputs": []
    },
    {
      "cell_type": "markdown",
      "source": [
        "# Solving a*x**2 + b*x + c = 0"
      ],
      "metadata": {
        "id": "5NT5nMV6s6MN"
      }
    },
    {
      "cell_type": "code",
      "source": [
        "# Run this cell to show the source code of the script.\n",
        "\n",
        "!cat sympy_03.py"
      ],
      "metadata": {
        "id": "_1fmbCaDs-wf"
      },
      "execution_count": null,
      "outputs": []
    },
    {
      "cell_type": "code",
      "source": [
        "# Run this cell to execute the script.\n",
        "\n",
        "!python3.12 sympy_03.py"
      ],
      "metadata": {
        "id": "J_PU_ibYs-wg"
      },
      "execution_count": null,
      "outputs": []
    },
    {
      "cell_type": "markdown",
      "source": [
        "# d/dx (1/x)"
      ],
      "metadata": {
        "id": "qMiDHeOttFXP"
      }
    },
    {
      "cell_type": "code",
      "source": [
        "# Run this cell to show the source code of the script.\n",
        "\n",
        "!cat sympy_04.py"
      ],
      "metadata": {
        "id": "8_oHp7s1tKBM"
      },
      "execution_count": null,
      "outputs": []
    },
    {
      "cell_type": "code",
      "source": [
        "# Run this cell to execute the script.\n",
        "\n",
        "!python3.12 sympy_04.py"
      ],
      "metadata": {
        "id": "Tbtz_R2ctKBM"
      },
      "execution_count": null,
      "outputs": []
    },
    {
      "cell_type": "markdown",
      "source": [
        "# d/dx [sin(x)]"
      ],
      "metadata": {
        "id": "f687Fnv2tPP5"
      }
    },
    {
      "cell_type": "code",
      "source": [
        "# Run this cell to show the source code of the script.\n",
        "\n",
        "!cat sympy_05.py"
      ],
      "metadata": {
        "id": "_TislDyztTKE"
      },
      "execution_count": null,
      "outputs": []
    },
    {
      "cell_type": "code",
      "source": [
        "# Run this cell to execute the script.\n",
        "\n",
        "!python3.12 sympy_05.py"
      ],
      "metadata": {
        "id": "aWvi_gVKtTKF"
      },
      "execution_count": null,
      "outputs": []
    },
    {
      "cell_type": "markdown",
      "source": [
        "# d/dx [log(x)]"
      ],
      "metadata": {
        "id": "baBXwN_GtZmh"
      }
    },
    {
      "cell_type": "code",
      "source": [
        "# Run this cell to show the source code of the script.\n",
        "\n",
        "!cat sympy_06.py"
      ],
      "metadata": {
        "id": "3vsdkpA2tcZd"
      },
      "execution_count": null,
      "outputs": []
    },
    {
      "cell_type": "code",
      "source": [
        "# Run this cell to execute the script.\n",
        "\n",
        "!python3.12 sympy_06.py"
      ],
      "metadata": {
        "id": "qSn1ZOhstcZd"
      },
      "execution_count": null,
      "outputs": []
    },
    {
      "cell_type": "markdown",
      "source": [
        "# Integration of x**2"
      ],
      "metadata": {
        "id": "y0Edpw4StjyT"
      }
    },
    {
      "cell_type": "code",
      "source": [
        "# Run this cell to show the source code of the script.\n",
        "\n",
        "!cat sympy_07.py"
      ],
      "metadata": {
        "id": "YabtGf3Ytnwo"
      },
      "execution_count": null,
      "outputs": []
    },
    {
      "cell_type": "code",
      "source": [
        "# Run this cell to execute the script.\n",
        "\n",
        "!python3.12 sympy_07.py"
      ],
      "metadata": {
        "id": "4sTufkeCtnwo"
      },
      "execution_count": null,
      "outputs": []
    },
    {
      "cell_type": "markdown",
      "source": [
        "# Integration of sin(x)"
      ],
      "metadata": {
        "id": "m3kWDx3QtuEd"
      }
    },
    {
      "cell_type": "code",
      "source": [
        "# Run this cell to show the source code of the script.\n",
        "\n",
        "!cat sympy_08.py"
      ],
      "metadata": {
        "id": "KLcarxPKtweU"
      },
      "execution_count": null,
      "outputs": []
    },
    {
      "cell_type": "code",
      "source": [
        "# Run this cell to execute the script.\n",
        "\n",
        "!python3.12 sympy_08.py"
      ],
      "metadata": {
        "id": "ISUqUngotweU"
      },
      "execution_count": null,
      "outputs": []
    },
    {
      "cell_type": "markdown",
      "source": [
        "# Integration of 1/x"
      ],
      "metadata": {
        "id": "8KlNLSuat2Ch"
      }
    },
    {
      "cell_type": "code",
      "source": [
        "# Run this cell to show the source code of the script.\n",
        "\n",
        "!cat sympy_09.py"
      ],
      "metadata": {
        "id": "RZVYDeUit4li"
      },
      "execution_count": null,
      "outputs": []
    },
    {
      "cell_type": "code",
      "source": [
        "# Run this cell to execute the script.\n",
        "\n",
        "!python3.12 sympy_09.py"
      ],
      "metadata": {
        "id": "9x1S-Ea_t4lj"
      },
      "execution_count": null,
      "outputs": []
    },
    {
      "cell_type": "markdown",
      "source": [
        "# Solving dy/dx = -ky"
      ],
      "metadata": {
        "id": "mOiizuEnuFs8"
      }
    },
    {
      "cell_type": "code",
      "source": [
        "# Run this cell to show the source code of the script.\n",
        "\n",
        "!cat sympy_10.py"
      ],
      "metadata": {
        "id": "EzSJfpKduIW-"
      },
      "execution_count": null,
      "outputs": []
    },
    {
      "cell_type": "code",
      "source": [
        "# Run this cell to execute the script.\n",
        "\n",
        "!python3.12 sympy_10.py"
      ],
      "metadata": {
        "id": "AS7zmJ7_uIW_"
      },
      "execution_count": null,
      "outputs": []
    },
    {
      "cell_type": "markdown",
      "source": [
        "# Solving Lane-Emden equation of n=0"
      ],
      "metadata": {
        "id": "t7e5jpgfuNE2"
      }
    },
    {
      "cell_type": "code",
      "source": [
        "# Run this cell to show the source code of the script.\n",
        "\n",
        "!cat sympy_11.py"
      ],
      "metadata": {
        "id": "k48OnUL4uP8W"
      },
      "execution_count": null,
      "outputs": []
    },
    {
      "cell_type": "code",
      "source": [
        "# Run this cell to execute the script.\n",
        "\n",
        "!python3.12 sympy_11.py"
      ],
      "metadata": {
        "id": "AYZRwRuauP8X"
      },
      "execution_count": null,
      "outputs": []
    },
    {
      "cell_type": "markdown",
      "source": [
        "# definite integral 1"
      ],
      "metadata": {
        "id": "2IJcVwBguYZ8"
      }
    },
    {
      "cell_type": "code",
      "source": [
        "# Run this cell to show the source code of the script.\n",
        "\n",
        "!cat sympy_12.py"
      ],
      "metadata": {
        "id": "9lP4w1clugqP"
      },
      "execution_count": null,
      "outputs": []
    },
    {
      "cell_type": "code",
      "source": [
        "# Run this cell to execute the script.\n",
        "\n",
        "!python3.12 sympy_12.py"
      ],
      "metadata": {
        "id": "hRbVz53TugqP"
      },
      "execution_count": null,
      "outputs": []
    },
    {
      "cell_type": "markdown",
      "source": [
        "# definite integral 2"
      ],
      "metadata": {
        "id": "NcOt6Z2supxT"
      }
    },
    {
      "cell_type": "code",
      "source": [
        "# Run this cell to show the source code of the script.\n",
        "\n",
        "!cat sympy_13.py"
      ],
      "metadata": {
        "id": "sBpveX7MupxV"
      },
      "execution_count": null,
      "outputs": []
    },
    {
      "cell_type": "code",
      "source": [
        "# Run this cell to execute the script.\n",
        "\n",
        "!python3.12 sympy_13.py"
      ],
      "metadata": {
        "id": "4XVO6OL3upxV"
      },
      "execution_count": null,
      "outputs": []
    },
    {
      "cell_type": "markdown",
      "source": [
        "# definite integral 3"
      ],
      "metadata": {
        "id": "QUjVpxmTutl6"
      }
    },
    {
      "cell_type": "code",
      "source": [
        "# Run this cell to show the source code of the script.\n",
        "\n",
        "!cat sympy_14.py"
      ],
      "metadata": {
        "id": "juDyLm_Iutl7"
      },
      "execution_count": null,
      "outputs": []
    },
    {
      "cell_type": "code",
      "source": [
        "# Run this cell to execute the script.\n",
        "\n",
        "!python3.12 sympy_14.py"
      ],
      "metadata": {
        "id": "54cEK41eutl7"
      },
      "execution_count": null,
      "outputs": []
    },
    {
      "cell_type": "markdown",
      "source": [
        "# definite integral 4"
      ],
      "metadata": {
        "id": "W06gILDfu7GU"
      }
    },
    {
      "cell_type": "code",
      "source": [
        "# Run this cell to show the source code of the script.\n",
        "\n",
        "!cat sympy_15.py"
      ],
      "metadata": {
        "id": "Y8YQ_omDu7GU"
      },
      "execution_count": null,
      "outputs": []
    },
    {
      "cell_type": "code",
      "source": [
        "# Run this cell to execute the script.\n",
        "\n",
        "!python3.12 sympy_15.py"
      ],
      "metadata": {
        "id": "gduClgV_u7GU"
      },
      "execution_count": null,
      "outputs": []
    },
    {
      "cell_type": "markdown",
      "source": [
        "# Calculation for free-fall time"
      ],
      "metadata": {
        "id": "NSkoafYmvBxa"
      }
    },
    {
      "cell_type": "code",
      "source": [
        "# Run this cell to show the source code of the script.\n",
        "\n",
        "!cat sympy_16.py"
      ],
      "metadata": {
        "id": "ZdSqjJ7wvFc7"
      },
      "execution_count": null,
      "outputs": []
    },
    {
      "cell_type": "code",
      "source": [
        "# Run this cell to execute the script.\n",
        "\n",
        "!python3.12 sympy_16.py"
      ],
      "metadata": {
        "id": "lG1cKrslvFc8"
      },
      "execution_count": null,
      "outputs": []
    },
    {
      "cell_type": "markdown",
      "source": [
        "# End of this notebook"
      ],
      "metadata": {
        "id": "DooNhl5dvK_T"
      }
    },
    {
      "cell_type": "code",
      "source": [],
      "metadata": {
        "id": "dU5MqUlKsuit"
      },
      "execution_count": null,
      "outputs": []
    }
  ]
}