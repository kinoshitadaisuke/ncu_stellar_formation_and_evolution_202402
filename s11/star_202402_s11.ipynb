{
  "nbformat": 4,
  "nbformat_minor": 0,
  "metadata": {
    "colab": {
      "provenance": []
    },
    "kernelspec": {
      "name": "python3",
      "display_name": "Python 3"
    },
    "language_info": {
      "name": "python"
    }
  },
  "cells": [
    {
      "cell_type": "markdown",
      "source": [
        "# Stellar Formation and Evolution\n",
        "\n",
        "- \"Stellar Formation and Evolution\"\n",
        "  - Instructor: Kinoshita Daisuke\n",
        "  - Classroom: S4-914\n",
        "  - Time: from 09:00 to 11:50 on Monday\n",
        "  - Semester: 2nd semester of academic year 2023\n",
        "    - from February 2024 to June 2024\n",
        "  - Course web page: https://s3b.astro.ncu.edu.tw/star_202402/\n",
        "  - GitHub repository: https://github.com/kinoshitadaisuke/ncu_stellar_formation_and_evolution_202402\n"
      ],
      "metadata": {
        "id": "gGzI83b9PmnI"
      }
    },
    {
      "cell_type": "markdown",
      "source": [
        "# Session 11\n",
        "\n",
        "## 29 April 2024\n",
        "\n",
        "## Instructor: Kinoshita Daisuke"
      ],
      "metadata": {
        "id": "Q7MvlbrC_tne"
      }
    },
    {
      "cell_type": "markdown",
      "source": [
        "# 0. Installation of Python interpreter"
      ],
      "metadata": {
        "id": "T_y7rto6Q5P8"
      }
    },
    {
      "cell_type": "code",
      "source": [
        "# Run this cell to install Python 3.12\n",
        "\n",
        "!apt update\n",
        "!apt upgrade\n",
        "!apt install python3.12 python3.12-dev python3.12-distutils libpython3.12-dev\n",
        "!update-alternatives --install /usr/bin/python3 python3 /usr/bin/python3.12 1\n",
        "!wget https://bootstrap.pypa.io/get-pip.py\n",
        "!python3.12 get-pip.py"
      ],
      "metadata": {
        "id": "MzmVLkC8QyGZ"
      },
      "execution_count": null,
      "outputs": []
    },
    {
      "cell_type": "code",
      "source": [
        "# Run this cell to check the version of Python interpreter and pip command\n",
        "\n",
        "!python --version\n",
        "!pip --version"
      ],
      "metadata": {
        "id": "Vx-JYTyp3NMU"
      },
      "execution_count": null,
      "outputs": []
    },
    {
      "cell_type": "code",
      "source": [
        "# Run this cell to install external packages.\n",
        "\n",
        "!pip install numpy scipy matplotlib"
      ],
      "metadata": {
        "id": "TzYngZ-iw8vC"
      },
      "execution_count": null,
      "outputs": []
    },
    {
      "cell_type": "markdown",
      "source": [
        "# 1. Downloading a set of sample Python scripts for this course"
      ],
      "metadata": {
        "id": "zvKZRFoF8A8k"
      }
    },
    {
      "cell_type": "code",
      "source": [
        "# Run this cell to download a set of sample Python scripts for this course.\n",
        "\n",
        "!git clone https://github.com/kinoshitadaisuke/ncu_stellar_formation_and_evolution_202402.git"
      ],
      "metadata": {
        "id": "itsUqwak4-z4"
      },
      "execution_count": null,
      "outputs": []
    },
    {
      "cell_type": "code",
      "source": [
        "# Run this cell to move to the directory for this session.\n",
        "\n",
        "%cd ncu_stellar_formation_and_evolution_202402/s11"
      ],
      "metadata": {
        "id": "bREyxIP08RZG"
      },
      "execution_count": null,
      "outputs": []
    },
    {
      "cell_type": "code",
      "source": [
        "# Run this cell to show a list of files for this session.\n",
        "\n",
        "!ls"
      ],
      "metadata": {
        "id": "fKxQ_X-D8dRN"
      },
      "execution_count": null,
      "outputs": []
    },
    {
      "cell_type": "markdown",
      "source": [],
      "metadata": {
        "id": "qp2wAsNMIpak"
      }
    },
    {
      "cell_type": "markdown",
      "source": [
        "# Borders of different physical states on rho-T diagram"
      ],
      "metadata": {
        "id": "ZrmA8A-QIpcH"
      }
    },
    {
      "cell_type": "code",
      "source": [
        "# Run this cell to show the source code of the script.\n",
        "\n",
        "!cat rho_T_state.py"
      ],
      "metadata": {
        "id": "K_vKAk7iIwB1"
      },
      "execution_count": null,
      "outputs": []
    },
    {
      "cell_type": "code",
      "source": [
        "# Run this cell to execute script.\n",
        "\n",
        "!python3.12 rho_T_state.py -h"
      ],
      "metadata": {
        "id": "VT5n-okJI0pQ"
      },
      "execution_count": null,
      "outputs": []
    },
    {
      "cell_type": "code",
      "source": [
        "# Run this cell to execute script.\n",
        "\n",
        "!python3.12 rho_T_state.py -o rho_T_state.png"
      ],
      "metadata": {
        "id": "7n3RmAjPI6Wi"
      },
      "execution_count": null,
      "outputs": []
    },
    {
      "cell_type": "code",
      "source": [
        "# Run this cell to find newly created file.\n",
        "\n",
        "!ls -lF *.png"
      ],
      "metadata": {
        "id": "X8xGK12HI5N1"
      },
      "execution_count": null,
      "outputs": []
    },
    {
      "cell_type": "code",
      "source": [
        "# Run this cell to display PNG file.\n",
        "\n",
        "# importing IPython module\n",
        "import IPython.display\n",
        "\n",
        "# displaying PNG file\n",
        "IPython.display.Image ('rho_T_state.png')"
      ],
      "metadata": {
        "id": "x-PBCOEEI_x0"
      },
      "execution_count": null,
      "outputs": []
    },
    {
      "cell_type": "markdown",
      "source": [
        "# Regions of different physical states on rho-T diagram"
      ],
      "metadata": {
        "id": "38Ws_Be5JNZK"
      }
    },
    {
      "cell_type": "code",
      "source": [
        "# Run this cell to show the source code of the script.\n",
        "\n",
        "!cat rho_T_state_fill.py"
      ],
      "metadata": {
        "id": "c2n0vnv_JNZL"
      },
      "execution_count": null,
      "outputs": []
    },
    {
      "cell_type": "code",
      "source": [
        "# Run this cell to execute script.\n",
        "\n",
        "!python3.12 rho_T_state_fill.py -h"
      ],
      "metadata": {
        "id": "Q59CgH2vJNZL"
      },
      "execution_count": null,
      "outputs": []
    },
    {
      "cell_type": "code",
      "source": [
        "# Run this cell to execute script.\n",
        "\n",
        "!python3.12 rho_T_state_fill.py -o rho_T_state_fill.png"
      ],
      "metadata": {
        "id": "7VQt2yKrJNZM"
      },
      "execution_count": null,
      "outputs": []
    },
    {
      "cell_type": "code",
      "source": [
        "# Run this cell to find newly created file.\n",
        "\n",
        "!ls -lF *.png"
      ],
      "metadata": {
        "id": "AvM2XBYHJNZN"
      },
      "execution_count": null,
      "outputs": []
    },
    {
      "cell_type": "code",
      "source": [
        "# Run this cell to display PNG file.\n",
        "\n",
        "# importing IPython module\n",
        "import IPython.display\n",
        "\n",
        "# displaying PNG file\n",
        "IPython.display.Image ('rho_T_state_fill.png')"
      ],
      "metadata": {
        "id": "sXWSv2AWJNZN"
      },
      "execution_count": null,
      "outputs": []
    },
    {
      "cell_type": "markdown",
      "source": [
        "# Evolutionary tracks of stars on rho-T diagram"
      ],
      "metadata": {
        "id": "sPqApXtKJbyb"
      }
    },
    {
      "cell_type": "code",
      "source": [
        "# Run this cell to show the source code of the script.\n",
        "\n",
        "!cat rho_T_evolution_ideal.py"
      ],
      "metadata": {
        "id": "oqH7G5lFJimv"
      },
      "execution_count": null,
      "outputs": []
    },
    {
      "cell_type": "code",
      "source": [
        "# Run this cell to execute script.\n",
        "\n",
        "!python3.12 rho_T_evolution_ideal.py -h"
      ],
      "metadata": {
        "id": "3JAxP82oJimx"
      },
      "execution_count": null,
      "outputs": []
    },
    {
      "cell_type": "code",
      "source": [
        "# Run this cell to execute script.\n",
        "\n",
        "!python3.12 rho_T_evolution_ideal.py -o rho_T_evolution_ideal.png"
      ],
      "metadata": {
        "id": "JqPCsDMMJimx"
      },
      "execution_count": null,
      "outputs": []
    },
    {
      "cell_type": "code",
      "source": [
        "# Run this cell to find newly created file.\n",
        "\n",
        "!ls -lF *.png"
      ],
      "metadata": {
        "id": "ywuvD4mTJimy"
      },
      "execution_count": null,
      "outputs": []
    },
    {
      "cell_type": "code",
      "source": [
        "# Run this cell to display PNG file.\n",
        "\n",
        "# importing IPython module\n",
        "import IPython.display\n",
        "\n",
        "# displaying PNG file\n",
        "IPython.display.Image ('rho_T_evolution_ideal.png')"
      ],
      "metadata": {
        "id": "1s-9KySbJim0"
      },
      "execution_count": null,
      "outputs": []
    },
    {
      "cell_type": "markdown",
      "source": [
        "# End of this notebook"
      ],
      "metadata": {
        "id": "BV90yCuCKzpw"
      }
    },
    {
      "cell_type": "code",
      "source": [],
      "metadata": {
        "id": "R_TmWUEkJJDu"
      },
      "execution_count": null,
      "outputs": []
    }
  ]
}