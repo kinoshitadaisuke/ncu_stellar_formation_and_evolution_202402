{
  "nbformat": 4,
  "nbformat_minor": 0,
  "metadata": {
    "colab": {
      "provenance": []
    },
    "kernelspec": {
      "name": "python3",
      "display_name": "Python 3"
    },
    "language_info": {
      "name": "python"
    }
  },
  "cells": [
    {
      "cell_type": "markdown",
      "source": [
        "# Stellar Formation and Evolution\n",
        "\n",
        "- \"Stellar Formation and Evolution\"\n",
        "  - Instructor: Kinoshita Daisuke\n",
        "  - Classroom: S4-914\n",
        "  - Time: from 09:00 to 11:50 on Monday\n",
        "  - Semester: 2nd semester of academic year 2023\n",
        "    - from February 2024 to June 2024\n",
        "  - Course web page: https://s3b.astro.ncu.edu.tw/star_202402/\n",
        "  - GitHub repository: https://github.com/kinoshitadaisuke/ncu_stellar_formation_and_evolution_202402\n"
      ],
      "metadata": {
        "id": "gGzI83b9PmnI"
      }
    },
    {
      "cell_type": "markdown",
      "source": [
        "# Session 11\n",
        "\n",
        "## 29 April 2024\n",
        "\n",
        "## Instructor: Kinoshita Daisuke"
      ],
      "metadata": {
        "id": "Q7MvlbrC_tne"
      }
    },
    {
      "cell_type": "markdown",
      "source": [
        "# 0. Installation of Python interpreter"
      ],
      "metadata": {
        "id": "T_y7rto6Q5P8"
      }
    },
    {
      "cell_type": "code",
      "source": [
        "# Run this cell to install Python 3.12\n",
        "\n",
        "!apt update\n",
        "!apt upgrade\n",
        "!apt install python3.12 python3.12-dev python3.12-distutils libpython3.12-dev\n",
        "!update-alternatives --install /usr/bin/python3 python3 /usr/bin/python3.12 1\n",
        "!wget https://bootstrap.pypa.io/get-pip.py\n",
        "!python3.12 get-pip.py"
      ],
      "metadata": {
        "id": "MzmVLkC8QyGZ",
        "colab": {
          "base_uri": "https://localhost:8080/"
        },
        "outputId": "39e1e250-7b5f-4e2e-ecc4-96c7b24d4fdd"
      },
      "execution_count": 23,
      "outputs": [
        {
          "output_type": "stream",
          "name": "stdout",
          "text": [
            "\u001b[33m\r0% [Working]\u001b[0m\r            \rHit:1 https://developer.download.nvidia.com/compute/cuda/repos/ubuntu2204/x86_64  InRelease\n",
            "Hit:2 https://cloud.r-project.org/bin/linux/ubuntu jammy-cran40/ InRelease\n",
            "Hit:3 http://security.ubuntu.com/ubuntu jammy-security InRelease\n",
            "Hit:4 http://archive.ubuntu.com/ubuntu jammy InRelease\n",
            "Hit:5 http://archive.ubuntu.com/ubuntu jammy-updates InRelease\n",
            "Hit:6 http://archive.ubuntu.com/ubuntu jammy-backports InRelease\n",
            "Hit:7 https://ppa.launchpadcontent.net/c2d4u.team/c2d4u4.0+/ubuntu jammy InRelease\n",
            "Hit:8 https://ppa.launchpadcontent.net/deadsnakes/ppa/ubuntu jammy InRelease\n",
            "Hit:9 https://ppa.launchpadcontent.net/graphics-drivers/ppa/ubuntu jammy InRelease\n",
            "Hit:10 https://ppa.launchpadcontent.net/ubuntugis/ppa/ubuntu jammy InRelease\n",
            "Reading package lists... Done\n",
            "Building dependency tree... Done\n",
            "Reading state information... Done\n",
            "4 packages can be upgraded. Run 'apt list --upgradable' to see them.\n",
            "Reading package lists... Done\n",
            "Building dependency tree... Done\n",
            "Reading state information... Done\n",
            "Calculating upgrade... Done\n",
            "The following packages have been kept back:\n",
            "  libcudnn8 libcudnn8-dev libnccl-dev libnccl2\n",
            "0 upgraded, 0 newly installed, 0 to remove and 4 not upgraded.\n",
            "Reading package lists... Done\n",
            "Building dependency tree... Done\n",
            "Reading state information... Done\n",
            "libpython3.12-dev is already the newest version (3.12.2-1+jammy3).\n",
            "python3.12 is already the newest version (3.12.2-1+jammy3).\n",
            "python3.12-dev is already the newest version (3.12.2-1+jammy3).\n",
            "python3.12-distutils is already the newest version (3.12.0~a1-1+jammy1).\n",
            "0 upgraded, 0 newly installed, 0 to remove and 4 not upgraded.\n",
            "--2024-04-26 02:23:02--  https://bootstrap.pypa.io/get-pip.py\n",
            "Resolving bootstrap.pypa.io (bootstrap.pypa.io)... 151.101.0.175, 151.101.64.175, 151.101.128.175, ...\n",
            "Connecting to bootstrap.pypa.io (bootstrap.pypa.io)|151.101.0.175|:443... connected.\n",
            "HTTP request sent, awaiting response... 200 OK\n",
            "Length: 2635835 (2.5M) [text/x-python]\n",
            "Saving to: ‘get-pip.py’\n",
            "\n",
            "get-pip.py          100%[===================>]   2.51M  --.-KB/s    in 0.04s   \n",
            "\n",
            "2024-04-26 02:23:02 (66.6 MB/s) - ‘get-pip.py’ saved [2635835/2635835]\n",
            "\n",
            "Collecting pip\n",
            "  Using cached pip-24.0-py3-none-any.whl.metadata (3.6 kB)\n",
            "Using cached pip-24.0-py3-none-any.whl (2.1 MB)\n",
            "Installing collected packages: pip\n",
            "  Attempting uninstall: pip\n",
            "    Found existing installation: pip 24.0\n",
            "    Uninstalling pip-24.0:\n",
            "      Successfully uninstalled pip-24.0\n",
            "Successfully installed pip-24.0\n",
            "\u001b[33mWARNING: Running pip as the 'root' user can result in broken permissions and conflicting behaviour with the system package manager. It is recommended to use a virtual environment instead: https://pip.pypa.io/warnings/venv\u001b[0m\u001b[33m\n",
            "\u001b[0m"
          ]
        }
      ]
    },
    {
      "cell_type": "code",
      "source": [
        "# Run this cell to check the version of Python interpreter and pip command\n",
        "\n",
        "!python --version\n",
        "!pip --version"
      ],
      "metadata": {
        "id": "Vx-JYTyp3NMU",
        "colab": {
          "base_uri": "https://localhost:8080/"
        },
        "outputId": "cb9bd6c9-c225-4228-8338-3c764f51f096"
      },
      "execution_count": 24,
      "outputs": [
        {
          "output_type": "stream",
          "name": "stdout",
          "text": [
            "Python 3.12.2\n",
            "pip 24.0 from /usr/local/lib/python3.12/dist-packages/pip (python 3.12)\n"
          ]
        }
      ]
    },
    {
      "cell_type": "code",
      "source": [
        "# Run this cell to install external packages.\n",
        "\n",
        "!pip install numpy scipy matplotlib"
      ],
      "metadata": {
        "id": "TzYngZ-iw8vC",
        "colab": {
          "base_uri": "https://localhost:8080/"
        },
        "outputId": "531bcf83-c9da-468b-cdaa-1ba04fdee41e"
      },
      "execution_count": 25,
      "outputs": [
        {
          "output_type": "stream",
          "name": "stdout",
          "text": [
            "Requirement already satisfied: numpy in /usr/local/lib/python3.12/dist-packages (1.26.4)\n",
            "Requirement already satisfied: scipy in /usr/local/lib/python3.12/dist-packages (1.13.0)\n",
            "Requirement already satisfied: matplotlib in /usr/local/lib/python3.12/dist-packages (3.8.4)\n",
            "Requirement already satisfied: contourpy>=1.0.1 in /usr/local/lib/python3.12/dist-packages (from matplotlib) (1.2.1)\n",
            "Requirement already satisfied: cycler>=0.10 in /usr/local/lib/python3.12/dist-packages (from matplotlib) (0.12.1)\n",
            "Requirement already satisfied: fonttools>=4.22.0 in /usr/local/lib/python3.12/dist-packages (from matplotlib) (4.51.0)\n",
            "Requirement already satisfied: kiwisolver>=1.3.1 in /usr/local/lib/python3.12/dist-packages (from matplotlib) (1.4.5)\n",
            "Requirement already satisfied: packaging>=20.0 in /usr/local/lib/python3.12/dist-packages (from matplotlib) (24.0)\n",
            "Requirement already satisfied: pillow>=8 in /usr/local/lib/python3.12/dist-packages (from matplotlib) (10.3.0)\n",
            "Requirement already satisfied: pyparsing>=2.3.1 in /usr/local/lib/python3.12/dist-packages (from matplotlib) (3.1.2)\n",
            "Requirement already satisfied: python-dateutil>=2.7 in /usr/local/lib/python3.12/dist-packages (from matplotlib) (2.9.0.post0)\n",
            "Requirement already satisfied: six>=1.5 in /usr/lib/python3/dist-packages (from python-dateutil>=2.7->matplotlib) (1.16.0)\n",
            "\u001b[33mWARNING: Running pip as the 'root' user can result in broken permissions and conflicting behaviour with the system package manager. It is recommended to use a virtual environment instead: https://pip.pypa.io/warnings/venv\u001b[0m\u001b[33m\n",
            "\u001b[0m"
          ]
        }
      ]
    },
    {
      "cell_type": "markdown",
      "source": [
        "# 1. Downloading a set of sample Python scripts for this course"
      ],
      "metadata": {
        "id": "zvKZRFoF8A8k"
      }
    },
    {
      "cell_type": "code",
      "source": [
        "# Run this cell to download a set of sample Python scripts for this course.\n",
        "\n",
        "!git clone https://github.com/kinoshitadaisuke/ncu_stellar_formation_and_evolution_202402.git"
      ],
      "metadata": {
        "id": "itsUqwak4-z4",
        "colab": {
          "base_uri": "https://localhost:8080/"
        },
        "outputId": "a7d4b630-192c-4506-cbee-8ed9590869dd"
      },
      "execution_count": 26,
      "outputs": [
        {
          "output_type": "stream",
          "name": "stdout",
          "text": [
            "Cloning into 'ncu_stellar_formation_and_evolution_202402'...\n",
            "remote: Enumerating objects: 192, done.\u001b[K\n",
            "remote: Counting objects: 100% (192/192), done.\u001b[K\n",
            "remote: Compressing objects: 100% (171/171), done.\u001b[K\n",
            "remote: Total 192 (delta 115), reused 87 (delta 15), pack-reused 0\u001b[K\n",
            "Receiving objects: 100% (192/192), 46.66 KiB | 809.00 KiB/s, done.\n",
            "Resolving deltas: 100% (115/115), done.\n"
          ]
        }
      ]
    },
    {
      "cell_type": "code",
      "source": [
        "# Run this cell to move to the directory for this session.\n",
        "\n",
        "%cd ncu_stellar_formation_and_evolution_202402/s11"
      ],
      "metadata": {
        "id": "bREyxIP08RZG",
        "colab": {
          "base_uri": "https://localhost:8080/"
        },
        "outputId": "3384ff89-8538-4d56-8521-5f51ecdb7d0f"
      },
      "execution_count": 27,
      "outputs": [
        {
          "output_type": "stream",
          "name": "stdout",
          "text": [
            "/content/ncu_stellar_formation_and_evolution_202402/s11/ncu_stellar_formation_and_evolution_202402/s11\n"
          ]
        }
      ]
    },
    {
      "cell_type": "code",
      "source": [
        "# Run this cell to show a list of files for this session.\n",
        "\n",
        "!ls"
      ],
      "metadata": {
        "id": "fKxQ_X-D8dRN",
        "colab": {
          "base_uri": "https://localhost:8080/"
        },
        "outputId": "0b3e918d-37ea-4a46-bee6-8e2621314205"
      },
      "execution_count": 28,
      "outputs": [
        {
          "output_type": "stream",
          "name": "stdout",
          "text": [
            "README.md  rho_T_evolution_ideal.py  rho_T_state_fill.py  rho_T_state.py  star_202402_s11.ipynb\n"
          ]
        }
      ]
    },
    {
      "cell_type": "markdown",
      "source": [],
      "metadata": {
        "id": "qp2wAsNMIpak"
      }
    },
    {
      "cell_type": "markdown",
      "source": [
        "# Borders of different physical states on rho-T diagram"
      ],
      "metadata": {
        "id": "ZrmA8A-QIpcH"
      }
    },
    {
      "cell_type": "code",
      "source": [
        "# Run this cell to show the source code of the script.\n",
        "\n",
        "!cat rho_T_state.py"
      ],
      "metadata": {
        "id": "K_vKAk7iIwB1"
      },
      "execution_count": null,
      "outputs": []
    },
    {
      "cell_type": "code",
      "source": [
        "# Run this cell to execute script.\n",
        "\n",
        "!python3.12 rho_T_state.py -h"
      ],
      "metadata": {
        "id": "VT5n-okJI0pQ",
        "colab": {
          "base_uri": "https://localhost:8080/"
        },
        "outputId": "80b572b4-058d-4bda-9f92-444a274ca3ae"
      },
      "execution_count": 29,
      "outputs": [
        {
          "output_type": "stream",
          "name": "stdout",
          "text": [
            "usage: rho_T_state.py [-h] [-o OUTPUT] [-r RESOLUTION]\n",
            "\n",
            "borders of different physical states on rho-T diagram\n",
            "\n",
            "options:\n",
            "  -h, --help            show this help message and exit\n",
            "  -o OUTPUT, --output OUTPUT\n",
            "                        output file name\n",
            "  -r RESOLUTION, --resolution RESOLUTION\n",
            "                        resolution of output file in DPI (default: 150)\n"
          ]
        }
      ]
    },
    {
      "cell_type": "code",
      "source": [
        "# Run this cell to execute script.\n",
        "\n",
        "!python3.12 rho_T_state.py -o rho_T_state.png"
      ],
      "metadata": {
        "id": "7n3RmAjPI6Wi"
      },
      "execution_count": 30,
      "outputs": []
    },
    {
      "cell_type": "code",
      "source": [
        "# Run this cell to find newly created file.\n",
        "\n",
        "!ls -lF *.png"
      ],
      "metadata": {
        "id": "X8xGK12HI5N1",
        "colab": {
          "base_uri": "https://localhost:8080/"
        },
        "outputId": "9ac206d7-58c2-4c5c-ace0-a2c76a76f4ae"
      },
      "execution_count": 31,
      "outputs": [
        {
          "output_type": "stream",
          "name": "stdout",
          "text": [
            "-rw-r--r-- 1 root root 60235 Apr 26 02:24 rho_T_state.png\n"
          ]
        }
      ]
    },
    {
      "cell_type": "code",
      "source": [
        "# Run this cell to display PNG file.\n",
        "\n",
        "# importing IPython module\n",
        "import IPython.display\n",
        "\n",
        "# displaying PNG file\n",
        "IPython.display.Image ('rho_T_state.png')"
      ],
      "metadata": {
        "id": "x-PBCOEEI_x0",
        "colab": {
          "base_uri": "https://localhost:8080/",
          "height": 737
        },
        "outputId": "e010f08d-0ba9-42c5-af43-cbcb580f12e9"
      },
      "execution_count": 32,
      "outputs": [
        {
          "output_type": "execute_result",
          "data": {
            "image/png": "[encoded data removed]",
            "text/plain": [
              "<IPython.core.display.Image object>"
            ]
          },
          "metadata": {},
          "execution_count": 32
        }
      ]
    },
    {
      "cell_type": "markdown",
      "source": [
        "# Regions of different physical states on rho-T diagram"
      ],
      "metadata": {
        "id": "38Ws_Be5JNZK"
      }
    },
    {
      "cell_type": "code",
      "source": [
        "# Run this cell to show the source code of the script.\n",
        "\n",
        "!cat rho_T_state_fill.py"
      ],
      "metadata": {
        "id": "c2n0vnv_JNZL"
      },
      "execution_count": null,
      "outputs": []
    },
    {
      "cell_type": "code",
      "source": [
        "# Run this cell to execute script.\n",
        "\n",
        "!python3.12 rho_T_state_fill.py -h"
      ],
      "metadata": {
        "id": "Q59CgH2vJNZL"
      },
      "execution_count": null,
      "outputs": []
    },
    {
      "cell_type": "code",
      "source": [
        "# Run this cell to execute script.\n",
        "\n",
        "!python3.12 rho_T_state_fill.py -o rho_T_state_fill.png"
      ],
      "metadata": {
        "id": "7VQt2yKrJNZM"
      },
      "execution_count": null,
      "outputs": []
    },
    {
      "cell_type": "code",
      "source": [
        "# Run this cell to find newly created file.\n",
        "\n",
        "!ls -lF *.png"
      ],
      "metadata": {
        "id": "AvM2XBYHJNZN"
      },
      "execution_count": null,
      "outputs": []
    },
    {
      "cell_type": "code",
      "source": [
        "# Run this cell to display PNG file.\n",
        "\n",
        "# importing IPython module\n",
        "import IPython.display\n",
        "\n",
        "# displaying PNG file\n",
        "IPython.display.Image ('rho_T_state_fill.png')"
      ],
      "metadata": {
        "id": "sXWSv2AWJNZN"
      },
      "execution_count": null,
      "outputs": []
    },
    {
      "cell_type": "markdown",
      "source": [
        "# Evolutionary tracks of stars on rho-T diagram"
      ],
      "metadata": {
        "id": "sPqApXtKJbyb"
      }
    },
    {
      "cell_type": "code",
      "source": [
        "# Run this cell to show the source code of the script.\n",
        "\n",
        "!cat rho_T_evolution_ideal.py"
      ],
      "metadata": {
        "id": "oqH7G5lFJimv"
      },
      "execution_count": null,
      "outputs": []
    },
    {
      "cell_type": "code",
      "source": [
        "# Run this cell to execute script.\n",
        "\n",
        "!python3.12 rho_T_evolution_ideal.py -h"
      ],
      "metadata": {
        "id": "3JAxP82oJimx"
      },
      "execution_count": null,
      "outputs": []
    },
    {
      "cell_type": "code",
      "source": [
        "# Run this cell to execute script.\n",
        "\n",
        "!python3.12 rho_T_evolution_ideal.py -o rho_T_evolution_ideal.png"
      ],
      "metadata": {
        "id": "JqPCsDMMJimx"
      },
      "execution_count": null,
      "outputs": []
    },
    {
      "cell_type": "code",
      "source": [
        "# Run this cell to find newly created file.\n",
        "\n",
        "!ls -lF *.png"
      ],
      "metadata": {
        "id": "ywuvD4mTJimy"
      },
      "execution_count": null,
      "outputs": []
    },
    {
      "cell_type": "code",
      "source": [
        "# Run this cell to display PNG file.\n",
        "\n",
        "# importing IPython module\n",
        "import IPython.display\n",
        "\n",
        "# displaying PNG file\n",
        "IPython.display.Image ('rho_T_evolution_ideal.png')"
      ],
      "metadata": {
        "id": "1s-9KySbJim0"
      },
      "execution_count": null,
      "outputs": []
    },
    {
      "cell_type": "markdown",
      "source": [
        "# End of this notebook"
      ],
      "metadata": {
        "id": "BV90yCuCKzpw"
      }
    },
    {
      "cell_type": "code",
      "source": [],
      "metadata": {
        "id": "R_TmWUEkJJDu"
      },
      "execution_count": null,
      "outputs": []
    }
  ]
}